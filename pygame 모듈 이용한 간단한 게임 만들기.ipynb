{
 "cells": [
  {
   "cell_type": "code",
   "execution_count": 2,
   "id": "cab88037",
   "metadata": {},
   "outputs": [
    {
     "name": "stdout",
     "output_type": "stream",
     "text": [
      "pygame 2.0.1 (SDL 2.0.14, Python 3.8.8)\n",
      "Hello from the pygame community. https://www.pygame.org/contribute.html\n"
     ]
    }
   ],
   "source": [
    "import pygame"
   ]
  },
  {
   "cell_type": "code",
   "execution_count": 15,
   "id": "091963f9",
   "metadata": {},
   "outputs": [
    {
     "name": "stdout",
     "output_type": "stream",
     "text": [
      "(70, 70)\n"
     ]
    }
   ],
   "source": [
    "pygame.init()\n",
    "\n",
    "screen_width = 480\n",
    "screen_height = 640\n",
    "screen = pygame.display.set_mode((screen_width, screen_height))\n",
    "\n",
    "pygame.display.set_caption(\"My First Game\") # 게임 이름\n",
    "\n",
    "clock = pygame.time.Clock()\n",
    "\n",
    "#option 1\n",
    "#background = pygame.image.load(\"background.png\")\n",
    "\n",
    "#option 2\n",
    "background = pygame.image.load(\"sky.jpg\")\n",
    "background = pygame.transform.scale(background, (screen_width, screen_height))\n",
    "\n",
    "\n",
    "character = pygame.image.load(\"character.png\")\n",
    "character_size = character.get_rect().size\n",
    "character_width = character_size[0]\n",
    "character_height = character_size[1]\n",
    "character_x_pos = (screen_width / 2) - (character_width / 2)\n",
    "character_y_pos = screen_height - character_height\n",
    "print(character_size)\n",
    "to_x = 0\n",
    "to_y = 0\n",
    "speed = 50\n",
    "\n",
    "running = True\n",
    "while running:\n",
    "    clock.tick(20)\n",
    "    for event in pygame.event.get():\n",
    "        if event.type == pygame.QUIT:\n",
    "            running = False\n",
    "            \n",
    "        if event.type == pygame.KEYDOWN:\n",
    "            if event.key == pygame.K_LEFT:\n",
    "                to_x -= speed\n",
    "                \n",
    "            if event.key == pygame.K_RIGHT:\n",
    "                to_x += speed\n",
    "                \n",
    "            if event.key == pygame.K_UP:\n",
    "                to_y -= speed\n",
    "            \n",
    "            if event.key == pygame.K_DOWN:\n",
    "                to_y += speed\n",
    "                \n",
    "        if event.type == pygame.KEYUP:\n",
    "            if event.key == pygame.K_LEFT or event.key == pygame.K_RIGHT:\n",
    "                to_x = 0\n",
    "            if event.key == pygame.K_UP or event.key == pygame.K_DOWN:\n",
    "                to_y = 0\n",
    "            \n",
    "    \n",
    "    screen.blit(background, (0,0))\n",
    "    \n",
    "    \n",
    "    character_x_pos += to_x\n",
    "    character_y_pos += to_y\n",
    "    \n",
    "    #가로 경계값\n",
    "    if character_x_pos < 0:\n",
    "        character_x_pos = 0\n",
    "        \n",
    "    elif character_x_pos > screen_width:\n",
    "        character_x_pos = screen_width - character_width\n",
    "    \n",
    "    #세로 경계값\n",
    "    if character_y_pos < 0:\n",
    "        character_y_pos = 0\n",
    "        \n",
    "    elif character_y_pos > (screen_height - character_height):\n",
    "        character_y_pos = screen_height - character_height\n",
    "    \n",
    "    \n",
    "    \n",
    "    screen.blit(character, (character_x_pos,character_y_pos))\n",
    "    \n",
    "    pygame.display.update()\n",
    "    \n",
    "pygame.quit()            "
   ]
  },
  {
   "cell_type": "code",
   "execution_count": null,
   "id": "1575a922",
   "metadata": {},
   "outputs": [],
   "source": []
  }
 ],
 "metadata": {
  "kernelspec": {
   "display_name": "Python 3",
   "language": "python",
   "name": "python3"
  },
  "language_info": {
   "codemirror_mode": {
    "name": "ipython",
    "version": 3
   },
   "file_extension": ".py",
   "mimetype": "text/x-python",
   "name": "python",
   "nbconvert_exporter": "python",
   "pygments_lexer": "ipython3",
   "version": "3.8.8"
  }
 },
 "nbformat": 4,
 "nbformat_minor": 5
}
